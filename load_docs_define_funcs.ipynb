{
 "cells": [
  {
   "cell_type": "code",
   "execution_count": null,
   "metadata": {},
   "outputs": [],
   "source": [
    "# pip install langchain qdrant_client openai tiktoken streamlit"
   ]
  },
  {
   "cell_type": "code",
   "execution_count": null,
   "metadata": {},
   "outputs": [],
   "source": [
    "### DO NOT RUN ALL ###"
   ]
  },
  {
   "cell_type": "code",
   "execution_count": null,
   "metadata": {},
   "outputs": [],
   "source": [
    "### these are functions to run individually as needed to modify the Qdrant collections!! the py. files are to run the script ###"
   ]
  },
  {
   "cell_type": "code",
   "execution_count": null,
   "metadata": {},
   "outputs": [],
   "source": [
    "from dotenv import load_dotenv\n",
    "import streamlit as st"
   ]
  },
  {
   "cell_type": "code",
   "execution_count": null,
   "metadata": {},
   "outputs": [],
   "source": [
    "# Imports\n",
    "from langchain.vectorstores import Qdrant\n",
    "from langchain.embeddings.openai import OpenAIEmbeddings\n",
    "from langchain.chains import RetrievalQA\n",
    "from langchain.llms import OpenAI\n",
    "from qdrant_client import QdrantClient, models\n",
    "import os\n"
   ]
  },
  {
   "cell_type": "code",
   "execution_count": null,
   "metadata": {},
   "outputs": [],
   "source": [
    "# create qdrant client\n",
    "client = QdrantClient(\n",
    "    os.getenv(\"QDRANT_HOST\"),\n",
    "    api_key=os.getenv(\"QDRANT_API_KEY\")\n",
    ")"
   ]
  },
  {
   "cell_type": "code",
   "execution_count": null,
   "metadata": {},
   "outputs": [],
   "source": [
    "# create collection\n",
    "\n",
    "# define parameters for vectors\n",
    "vectors_config = models.VectorParams(\n",
    "    size=1536, # vector size for OpenAI\n",
    "    distance=models.Distance.COSINE\n",
    ")\n",
    "\n",
    "# create collection\n",
    "client.recreate_collection(\n",
    "    collection_name=os.getenv(\"QDRANT_COLLECTION_NAME\"),\n",
    "    vectors_config=vectors_config,\n",
    ")"
   ]
  },
  {
   "cell_type": "code",
   "execution_count": null,
   "metadata": {},
   "outputs": [],
   "source": [
    "# create vector store\n",
    "\n",
    "embeddings = OpenAIEmbeddings()\n",
    "\n",
    "# get collection name\n",
    "vector_store = Qdrant(\n",
    "    client=client, \n",
    "    collection_name=os.getenv(\"QDRANT_COLLECTION_NAME\"), \n",
    "    embeddings=embeddings,\n",
    ")"
   ]
  },
  {
   "cell_type": "code",
   "execution_count": null,
   "metadata": {},
   "outputs": [],
   "source": [
    "# # add 'extracted code' to vector store\n",
    "\n",
    "# from langchain_text_splitters import Language, RecursiveCharacterTextSplitter\n",
    "\n",
    "# def get_python_chunks(text):\n",
    "    \n",
    "#     python_splitter = RecursiveCharacterTextSplitter.from_language(\n",
    "#     language=Language.PYTHON, chunk_size=50, chunk_overlap=0\n",
    "# )\n",
    "    \n",
    "#     chunks = python_splitter.split_text(text)\n",
    "#     return chunks\n",
    "\n",
    "# with open('extracted_code.txt') as f:\n",
    "#     raw_text = f.read()\n",
    "    \n",
    "# texts = get_python_chunks(raw_text)\n",
    "\n",
    "# vector_store.add_texts(texts)"
   ]
  },
  {
   "cell_type": "code",
   "execution_count": null,
   "metadata": {},
   "outputs": [],
   "source": [
    "# add 'extracted text' to vector store\n",
    "\n",
    "from langchain_text_splitters import RecursiveCharacterTextSplitter\n",
    "\n",
    "def get_text_chunks(text):\n",
    "    \n",
    "    text_splitter = RecursiveCharacterTextSplitter(\n",
    "        separator=\"\\n\\n\",\n",
    "        chunk_size=1000,\n",
    "        chunk_overlap=200,\n",
    "        length_function=len,\n",
    "        is_separator_regex=False,\n",
    "    )\n",
    "     \n",
    "    chunks = text_splitter.split_text(text)\n",
    "    return chunks\n",
    "\n",
    "with open('combined_markdown_and_code.txt') as f:\n",
    "    raw_text = f.read()\n",
    "    \n",
    "texts = get_text_chunks(raw_text)\n",
    "\n",
    "vector_store.add_texts(texts)"
   ]
  },
  {
   "cell_type": "code",
   "execution_count": 21,
   "metadata": {},
   "outputs": [],
   "source": [
    "from langchain_community.document_loaders import PyPDFLoader\n",
    "# add 'extracted pdf' to vector store\n",
    "\n",
    "from langchain_text_splitters import RecursiveCharacterTextSplitter\n",
    "\n",
    "def get_pdf_chunks(pdf_filepath):\n",
    "    loader = PyPDFLoader(pdf_filepath)\n",
    "    text_splitter = RecursiveCharacterTextSplitter(\n",
    "        chunk_size=1000,\n",
    "        chunk_overlap=200,\n",
    "    )\n",
    "     \n",
    "    chunks = text_splitter.split_text(pdf_filepath)\n",
    "    return chunks\n",
    "\n",
    "\n",
    "slides_filepath = 'Slides'\n",
    "for slide in os.listdir(slides_filepath):\n",
    "    texts = get_text_chunks(slide)\n",
    "    vector_store.add_texts(texts)"
   ]
  },
  {
   "cell_type": "code",
   "execution_count": null,
   "metadata": {},
   "outputs": [],
   "source": [
    "# delete collection\n",
    "\n",
    "client.delete_collection(collection_name=os.getenv(\"QDRANT_COLLECTION_NAME\"))"
   ]
  },
  {
   "cell_type": "code",
   "execution_count": null,
   "metadata": {},
   "outputs": [],
   "source": [
    "from langchain.schema import retriever\n",
    "\n",
    "from langchain_community.llms import OpenAI\n",
    "from langchain.chains import RetrievalQA\n",
    "\n",
    "# add vector store to retrieval chain\n",
    "\n",
    "retrievalQA = RetrievalQA.from_llm(\n",
    "    llm=OpenAI(),\n",
    "    retriever=vector_store.as_retriever()\n",
    "    )"
   ]
  },
  {
   "cell_type": "code",
   "execution_count": null,
   "metadata": {},
   "outputs": [],
   "source": [
    "# # conversational retrieval qa\n",
    "# from langchain.chains import ConversationalRetrievalChain\n",
    "# from langchain.chat_models import ChatOpenAI\n",
    "\n",
    "# llm = ChatOpenAI(model='gpt-3.5-turbo', temperature=1)\n",
    "# crc = ConversationalRetrievalChain.from_llm(llm,retriever)"
   ]
  },
  {
   "cell_type": "code",
   "execution_count": null,
   "metadata": {},
   "outputs": [],
   "source": [
    "query = \"What topic are you knowledgable about?\"\n",
    "\n",
    "response = retrievalQA.run(query)\n",
    "\n",
    "print(response)"
   ]
  }
 ],
 "metadata": {
  "kernelspec": {
   "display_name": "base",
   "language": "python",
   "name": "python3"
  },
  "language_info": {
   "codemirror_mode": {
    "name": "ipython",
    "version": 3
   },
   "file_extension": ".py",
   "mimetype": "text/x-python",
   "name": "python",
   "nbconvert_exporter": "python",
   "pygments_lexer": "ipython3",
   "version": "3.11.4"
  }
 },
 "nbformat": 4,
 "nbformat_minor": 2
}
