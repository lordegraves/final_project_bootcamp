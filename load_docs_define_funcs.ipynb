{
 "cells": [
  {
   "cell_type": "code",
   "execution_count": null,
   "metadata": {},
   "outputs": [],
   "source": [
    "# pip install langchain qdrant_client openai streamlit"
   ]
  },
  {
   "cell_type": "code",
   "execution_count": null,
   "metadata": {},
   "outputs": [],
   "source": [
    "### DO NOT RUN ALL ###"
   ]
  },
  {
   "cell_type": "code",
   "execution_count": null,
   "metadata": {},
   "outputs": [],
   "source": [
    "### these are functions to run individually as needed to modify the Qdrant collections!! the py. files are to run the script ###"
   ]
  },
  {
   "cell_type": "code",
   "execution_count": null,
   "metadata": {},
   "outputs": [],
   "source": [
    "# Imports\n",
    "from langchain.vectorstores import Qdrant\n",
    "from langchain.embeddings.openai import OpenAIEmbeddings\n",
    "from langchain.chains import RetrievalQA\n",
    "from langchain.llms import OpenAI\n",
    "from qdrant_client import QdrantClient, models\n",
    "import os\n",
    "import qdrant_client\n",
    "import streamlit as st\n",
    "from langchain_community.document_loaders import PyPDFLoader\n",
    "from langchain_text_splitters import RecursiveCharacterTextSplitter\n",
    "from langchain_community.document_loaders import TextLoader\n",
    "from PyPDF2 import PdfReader"
   ]
  },
  {
   "cell_type": "code",
   "execution_count": null,
   "metadata": {},
   "outputs": [],
   "source": [
    "# create qdrant client\n",
    "client = qdrant_client.QdrantClient(\n",
    "        st.secrets[\"QDRANT_HOST\"], \n",
    "        api_key=st.secrets[\"QDRANT_API_KEY\"]\n",
    "    )"
   ]
  },
  {
   "cell_type": "code",
   "execution_count": null,
   "metadata": {},
   "outputs": [],
   "source": [
    "# delete collection\n",
    "\n",
    "client.delete_collection(collection_name=st.secrets[\"QDRANT_COLLECTION_NAME\"])"
   ]
  },
  {
   "cell_type": "code",
   "execution_count": null,
   "metadata": {},
   "outputs": [],
   "source": [
    "# create collection\n",
    "\n",
    "# define parameters for vectors\n",
    "vectors_config = models.VectorParams(\n",
    "    size=1536, # vector size for OpenAI\n",
    "    distance=models.Distance.COSINE\n",
    ")\n",
    "\n",
    "# create collection\n",
    "client.recreate_collection(\n",
    "    collection_name=st.secrets[\"QDRANT_COLLECTION_NAME\"],\n",
    "    vectors_config=vectors_config,\n",
    ")"
   ]
  },
  {
   "cell_type": "code",
   "execution_count": null,
   "metadata": {},
   "outputs": [],
   "source": [
    "# create vector store\n",
    "\n",
    "embeddings = OpenAIEmbeddings()\n",
    "\n",
    "# get collection name\n",
    "vector_store = Qdrant(\n",
    "    client=client, \n",
    "    collection_name=st.secrets[\"QDRANT_COLLECTION_NAME\"], \n",
    "    embeddings=embeddings,\n",
    ")"
   ]
  },
  {
   "cell_type": "code",
   "execution_count": null,
   "metadata": {},
   "outputs": [],
   "source": [
    "# get chunks function\n",
    "def get_chunks(text):\n",
    "    text_splitter = RecursiveCharacterTextSplitter(chunk_size=1000,chunk_overlap=200)\n",
    "    chunks = text_splitter.split_text(text)\n",
    "    return chunks"
   ]
  },
  {
   "cell_type": "code",
   "execution_count": null,
   "metadata": {},
   "outputs": [],
   "source": [
    "# get pdf text function\n",
    "def get_pdf_text(pdf_filepath):\n",
    "    text = \"\"\n",
    "    with open(pdf_filepath, \"rb\") as file:\n",
    "        pdf_reader = PdfReader(file)\n",
    "        for page in pdf_reader.pages:\n",
    "            text += page.extract_text()  # Or use page.extractText() if using an older version of PyPDF2\n",
    "    return text"
   ]
  },
  {
   "cell_type": "code",
   "execution_count": 29,
   "metadata": {},
   "outputs": [],
   "source": [
    "# get txt text function\n",
    "def get_txt_text(txt_filepath):\n",
    "    with open(txt_filepath, 'r', encoding='latin1') as file:\n",
    "        text = file.read()\n",
    "    return text"
   ]
  },
  {
   "cell_type": "code",
   "execution_count": 33,
   "metadata": {},
   "outputs": [
    {
     "name": "stderr",
     "output_type": "stream",
     "text": [
      "FloatObject (b'0.00-29555193') invalid; use 0.0 instead\n",
      "FloatObject (b'0.00-22356359') invalid; use 0.0 instead\n",
      "FloatObject (b'0.00-25406823') invalid; use 0.0 instead\n",
      "FloatObject (b'0.000-29396326') invalid; use 0.0 instead\n",
      "FloatObject (b'0.0000-52493438') invalid; use 0.0 instead\n",
      "FloatObject (b'0.0000-52493438') invalid; use 0.0 instead\n",
      "FloatObject (b'0.00-50') invalid; use 0.0 instead\n",
      "FloatObject (b'0.00-50') invalid; use 0.0 instead\n",
      "FloatObject (b'0.0000-13123359') invalid; use 0.0 instead\n",
      "FloatObject (b'0.00-60') invalid; use 0.0 instead\n",
      "FloatObject (b'0.00-60') invalid; use 0.0 instead\n",
      "FloatObject (b'0.00-60') invalid; use 0.0 instead\n",
      "FloatObject (b'0.00-60') invalid; use 0.0 instead\n"
     ]
    }
   ],
   "source": [
    "# upload slides to vector store\n",
    "# get filepath\n",
    "slides_filepath = 'Slides'\n",
    "for slide in os.listdir(slides_filepath):\n",
    "    slide_path = os.path.join(slides_filepath, slide)\n",
    "    # extract text\n",
    "    texts = get_pdf_text(slide_path)\n",
    "    chunks = get_chunks(texts)\n",
    "    metadatas = [{\"name\": slide} for _ in texts]\n",
    "    vector_store.add_texts(chunks, metadatas=metadatas)\n",
    "    \n"
   ]
  },
  {
   "cell_type": "code",
   "execution_count": 34,
   "metadata": {},
   "outputs": [],
   "source": [
    "def upload_txt_folder(folder_filepath):\n",
    "    for file_name in os.listdir(folder_filepath):\n",
    "        filepath = os.path.join(folder_filepath, file_name)\n",
    "        texts = get_txt_text(filepath)\n",
    "        chunks = get_chunks(texts)\n",
    "        metadatas = [{\"name\": file_name} for _ in texts]\n",
    "        vector_store.add_texts(chunks, metadatas=metadatas)\n",
    "    \n"
   ]
  },
  {
   "cell_type": "code",
   "execution_count": 35,
   "metadata": {},
   "outputs": [],
   "source": [
    "upload_txt_folder('Output')"
   ]
  }
 ],
 "metadata": {
  "kernelspec": {
   "display_name": "base",
   "language": "python",
   "name": "python3"
  },
  "language_info": {
   "codemirror_mode": {
    "name": "ipython",
    "version": 3
   },
   "file_extension": ".py",
   "mimetype": "text/x-python",
   "name": "python",
   "nbconvert_exporter": "python",
   "pygments_lexer": "ipython3",
   "version": "3.11.4"
  }
 },
 "nbformat": 4,
 "nbformat_minor": 2
}
