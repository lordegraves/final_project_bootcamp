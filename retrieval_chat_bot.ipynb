{
 "cells": [
  {
   "cell_type": "code",
   "execution_count": null,
   "metadata": {},
   "outputs": [],
   "source": [
    "# pip install langchain qdrant_client openai tiktoken streamlit"
   ]
  },
  {
   "cell_type": "code",
   "execution_count": 4,
   "metadata": {},
   "outputs": [],
   "source": [
    "from dotenv import load_dotenv\n",
    "import streamlit as st"
   ]
  },
  {
   "cell_type": "code",
   "execution_count": 5,
   "metadata": {},
   "outputs": [],
   "source": [
    "# Imports\n",
    "from langchain.vectorstores import qdrant\n",
    "from langchain.embeddings.openai import OpenAIEmbeddings\n",
    "from langchain.chains import RetrievalQA\n",
    "from langchain.llms import OpenAI\n",
    "import qdrant_client\n",
    "import os\n"
   ]
  },
  {
   "cell_type": "code",
   "execution_count": 6,
   "metadata": {},
   "outputs": [],
   "source": [
    "# create qdrant client\n",
    "client = qdrant_client.QdrantClient(\n",
    "    os.getenv(\"QDRANT_HOST\"),\n",
    "    api_key=os.getenv(\"QDRANT_API_KEY\")\n",
    ")"
   ]
  },
  {
   "cell_type": "code",
   "execution_count": 10,
   "metadata": {},
   "outputs": [
    {
     "ename": "AttributeError",
     "evalue": "module 'qdrant_client' has no attribute 'models'",
     "output_type": "error",
     "traceback": [
      "\u001b[1;31m---------------------------------------------------------------------------\u001b[0m",
      "\u001b[1;31mAttributeError\u001b[0m                            Traceback (most recent call last)",
      "Cell \u001b[1;32mIn[10], line 4\u001b[0m\n\u001b[0;32m      1\u001b[0m \u001b[38;5;66;03m# create collection\u001b[39;00m\n\u001b[0;32m      2\u001b[0m \n\u001b[0;32m      3\u001b[0m \u001b[38;5;66;03m# define parameters for vectors\u001b[39;00m\n\u001b[1;32m----> 4\u001b[0m vectors_config \u001b[38;5;241m=\u001b[39m qdrant_client\u001b[38;5;241m.\u001b[39mmodels\u001b[38;5;241m.\u001b[39mVectorParams(\n\u001b[0;32m      5\u001b[0m     size\u001b[38;5;241m=\u001b[39m\u001b[38;5;241m1536\u001b[39m, \u001b[38;5;66;03m# vector size for OpenAI\u001b[39;00m\n\u001b[0;32m      6\u001b[0m     distance\u001b[38;5;241m=\u001b[39mqdrant_client\u001b[38;5;241m.\u001b[39mmodels\u001b[38;5;241m.\u001b[39mDistance\u001b[38;5;241m.\u001b[39mCOSINE\n\u001b[0;32m      7\u001b[0m )\n\u001b[0;32m      9\u001b[0m \u001b[38;5;66;03m# create collection\u001b[39;00m\n\u001b[0;32m     10\u001b[0m client\u001b[38;5;241m.\u001b[39mrecreate_collection(\n\u001b[0;32m     11\u001b[0m     collection_name\u001b[38;5;241m=\u001b[39mos\u001b[38;5;241m.\u001b[39mgetenv(\u001b[38;5;124m\"\u001b[39m\u001b[38;5;124mQDRANT_COLLECTION_NAME\u001b[39m\u001b[38;5;124m\"\u001b[39m),\n\u001b[0;32m     12\u001b[0m     vectors_config\u001b[38;5;241m=\u001b[39mvectors_config,\n\u001b[0;32m     13\u001b[0m )\n",
      "\u001b[1;31mAttributeError\u001b[0m: module 'qdrant_client' has no attribute 'models'"
     ]
    }
   ],
   "source": [
    "# create collection\n",
    "\n",
    "# define parameters for vectors\n",
    "vectors_config = qdrant_client.models.VectorParams(\n",
    "    size=1536, # vector size for OpenAI\n",
    "    distance=qdrant_client.models.Distance.COSINE\n",
    ")\n",
    "\n",
    "# create collection\n",
    "client.recreate_collection(\n",
    "    collection_name=os.getenv(\"QDRANT_COLLECTION_NAME\"),\n",
    "    vectors_config=vectors_config,\n",
    ")"
   ]
  },
  {
   "cell_type": "code",
   "execution_count": null,
   "metadata": {},
   "outputs": [],
   "source": [
    "# define get vector store\n",
    "\n",
    "def get_vector_store():\n",
    "    \n",
    "    # creat qdrant client\n",
    "    client = qdrant_client.QdrantClient(\n",
    "        os.getenv(\"QDRANT_HOST\"),\n",
    "        api_key=os.getenv(\"QDRANT_API_KEY\")\n",
    "    )\n",
    "    \n",
    "    embeddings = OpenAIEmbeddings()\n",
    "\n",
    "    # get collection name\n",
    "    vector_store = Qdrant(\n",
    "        client=client, \n",
    "        collection_name=os.getenv(\"QDRANT_COLLECTION_NAME\"), \n",
    "        embeddings=embeddings,\n",
    "    )\n",
    "    \n",
    "    return vector_store"
   ]
  },
  {
   "cell_type": "code",
   "execution_count": null,
   "metadata": {},
   "outputs": [],
   "source": [
    "# create main\n",
    "\n",
    "def main():\n",
    "    load_dotenv()\n",
    "    \n",
    "    st.set_page_config(page_title=\"Ask Qdrant\")\n",
    "    st.header(\"Ask your remote database 💬\")\n",
    "    \n",
    "    # create vector store\n",
    "    vector_store = get_vector_store()\n",
    "    \n",
    "    # create chain \n",
    "    qa = RetrievalQA.from_chain_type(\n",
    "        llm=OpenAI(),\n",
    "        chain_type=\"stuff\",\n",
    "        retriever=vector_store.as_retriever()\n",
    "    )\n",
    "\n",
    "    # show user input\n",
    "    user_question = st.text_input(\"Ask a question about your PDF:\")\n",
    "    if user_question:\n",
    "        st.write(f\"Question: {user_question}\")\n",
    "        answer = qa.run(user_question)\n",
    "        st.write(f\"Answer: {answer}\")\n",
    "    \n",
    "        \n",
    "if __name__ == '__main__':\n",
    "    main()"
   ]
  }
 ],
 "metadata": {
  "kernelspec": {
   "display_name": "base",
   "language": "python",
   "name": "python3"
  },
  "language_info": {
   "codemirror_mode": {
    "name": "ipython",
    "version": 3
   },
   "file_extension": ".py",
   "mimetype": "text/x-python",
   "name": "python",
   "nbconvert_exporter": "python",
   "pygments_lexer": "ipython3",
   "version": "3.11.4"
  }
 },
 "nbformat": 4,
 "nbformat_minor": 2
}
