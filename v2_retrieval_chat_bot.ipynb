{
 "cells": [
  {
   "cell_type": "code",
   "execution_count": 1,
   "metadata": {},
   "outputs": [
    {
     "name": "stderr",
     "output_type": "stream",
     "text": [
      "2024-04-06 00:01:36.210 \n",
      "  \u001b[33m\u001b[1mWarning:\u001b[0m to view this Streamlit app on a browser, run it with the following\n",
      "  command:\n",
      "\n",
      "    streamlit run c:\\Users\\derek\\anaconda3\\Lib\\site-packages\\ipykernel_launcher.py [ARGUMENTS]\n",
      "c:\\Users\\derek\\anaconda3\\Lib\\site-packages\\langchain_core\\_api\\deprecation.py:117: LangChainDeprecationWarning: The class `langchain_community.embeddings.openai.OpenAIEmbeddings` was deprecated in langchain-community 0.0.9 and will be removed in 0.2.0. An updated version of the class exists in the langchain-openai package and should be used instead. To use it run `pip install -U langchain-openai` and import as `from langchain_openai import OpenAIEmbeddings`.\n",
      "  warn_deprecated(\n",
      "c:\\Users\\derek\\anaconda3\\Lib\\site-packages\\langchain_core\\_api\\deprecation.py:117: LangChainDeprecationWarning: The class `langchain_community.llms.openai.OpenAI` was deprecated in langchain-community 0.0.10 and will be removed in 0.2.0. An updated version of the class exists in the langchain-openai package and should be used instead. To use it run `pip install -U langchain-openai` and import as `from langchain_openai import OpenAI`.\n",
      "  warn_deprecated(\n"
     ]
    }
   ],
   "source": [
    "from dotenv import load_dotenv\n",
    "import streamlit as st\n",
    "\n",
    "from langchain.chains import RetrievalQA\n",
    "from langchain.llms import OpenAI\n",
    "from langchain.vectorstores import Qdrant\n",
    "from langchain.embeddings.openai import OpenAIEmbeddings\n",
    "import qdrant_client\n",
    "import os\n",
    "\n",
    "def get_vector_store():\n",
    "    \n",
    "    client = qdrant_client.QdrantClient(\n",
    "        os.getenv(\"QDRANT_HOST\"),\n",
    "        api_key=os.getenv(\"QDRANT_API_KEY\")\n",
    "    )\n",
    "    \n",
    "    embeddings = OpenAIEmbeddings()\n",
    "\n",
    "    vector_store = Qdrant(\n",
    "        client=client, \n",
    "        collection_name=os.getenv(\"QDRANT_COLLECTION_NAME\"), \n",
    "        embeddings=embeddings,\n",
    "    )\n",
    "    \n",
    "    return vector_store\n",
    "\n",
    "def main():\n",
    "    load_dotenv()\n",
    "    \n",
    "    st.set_page_config(page_title=\"Ask Qdrant\")\n",
    "    st.header(\"Ask your remote database 💬\")\n",
    "    \n",
    "    # create vector store\n",
    "    vector_store = get_vector_store()\n",
    "    \n",
    "    # create chain \n",
    "    qa = RetrievalQA.from_chain_type(\n",
    "        llm=OpenAI(),\n",
    "        chain_type=\"stuff\",\n",
    "        retriever=vector_store.as_retriever()\n",
    "    )\n",
    "\n",
    "    # show user input\n",
    "    user_question = st.text_input(\"Ask a question about your PDF:\")\n",
    "    if user_question:\n",
    "        st.write(f\"Question: {user_question}\")\n",
    "        answer = qa.run(user_question)\n",
    "        st.write(f\"Answer: {answer}\")\n",
    "    \n",
    "        \n",
    "if __name__ == '__main__':\n",
    "    main()"
   ]
  }
 ],
 "metadata": {
  "kernelspec": {
   "display_name": "base",
   "language": "python",
   "name": "python3"
  },
  "language_info": {
   "codemirror_mode": {
    "name": "ipython",
    "version": 3
   },
   "file_extension": ".py",
   "mimetype": "text/x-python",
   "name": "python",
   "nbconvert_exporter": "python",
   "pygments_lexer": "ipython3",
   "version": "3.11.4"
  }
 },
 "nbformat": 4,
 "nbformat_minor": 2
}
