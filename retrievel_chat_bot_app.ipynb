{
 "cells": [
  {
   "cell_type": "code",
   "execution_count": 1,
   "metadata": {},
   "outputs": [
    {
     "name": "stderr",
     "output_type": "stream",
     "text": [
      "2024-04-05 23:45:33.663 \n",
      "  \u001b[33m\u001b[1mWarning:\u001b[0m to view this Streamlit app on a browser, run it with the following\n",
      "  command:\n",
      "\n",
      "    streamlit run c:\\Users\\derek\\anaconda3\\Lib\\site-packages\\ipykernel_launcher.py [ARGUMENTS]\n"
     ]
    }
   ],
   "source": [
    "import os\n",
    "# from apikey import apikey\n",
    "\n",
    "import streamlit as st\n",
    "from langchain import OpenAI \n",
    "from langchain.chat_models import ChatOpenAI\n",
    "from langchain.text_splitter import RecursiveCharacterTextSplitter \n",
    "from langchain.embeddings.openai import OpenAIEmbeddings\n",
    "from langchain.vectorstores import Chroma \n",
    "#from langchain.chains import RetrievalQA\n",
    "from langchain.chains import ConversationalRetrievalChain\n",
    "from langchain.vectorstores import Qdrant\n",
    "from qdrant_client import QdrantClient\n",
    "\n",
    "\n",
    "os.environ[\"OPENAI_API_KEY\"] = ''\n",
    "\n",
    "def clear_history():\n",
    "    if 'history' in st.session_state:\n",
    "        del st.session_state['history']\n",
    "\n",
    "st.title('Chat with Document')\n",
    "\n",
    "def get_vector_store():\n",
    "\n",
    "    client = qdrant_client.QdrantClient(\n",
    "        os.getenv(\"QDRANT_HOST\"),\n",
    "        api_key=os.getenv(\"QDRANT_API_KEY\")\n",
    "    )\n",
    "\n",
    "    embeddings = OpenAIEmbeddings()\n",
    "\n",
    "    vector_store = Qdrant(\n",
    "        client=client, \n",
    "        collection_name=os.getenv(\"QDRANT_COLLECTION_NAME\"), \n",
    "        embeddings=embeddings,\n",
    "    )\n",
    "\n",
    "    return vector_store\n",
    "\n",
    "\n",
    "     # create vector store\n",
    "    vector_store = get_vector_store()\n",
    "    retriever = vector_store.as_retriever()\n",
    "    \n",
    "    # create chain \n",
    "    # qa = RetrievalQA.from_chain_type(\n",
    "    #     llm=OpenAI(),\n",
    "    #     chain_type=\"stuff\",\n",
    "    #     retriever=vector_store.as_retriever()\n",
    "    # )\n",
    "    \n",
    "    #llm = OpenAI(temperature=0)\n",
    "    llm = ChatOpenAI(model='gpt-3.5-turbo', temperature=1)\n",
    "\n",
    "    #chain = RetrievalQA.from_chain_type(llm, retriever=retriever )\n",
    "    crc = ConversationalRetrievalChain.from_llm(llm,retriever)\n",
    "    st.session_state.crc = crc\n",
    "    st.success('Database succesfully retrieved.')\n",
    "\n",
    "question = st.text_input('Input your question')\n",
    "\n",
    "if question:\n",
    "    if 'crc' in st.session_state:\n",
    "        crc = st.session_state.crc\n",
    "        if 'history' not in st.session_state:\n",
    "            st.session_state['history'] = []\n",
    "\n",
    "        response = crc.run({'question':question,'chat_history':st.session_state['history']})\n",
    "\n",
    "        st.session_state['history'].append((question,response))\n",
    "        st.write(response)\n",
    "\n",
    "        #st.write(st.session_state['history'])\n",
    "        for prompts in st.session_state['history']:\n",
    "            st.write(\"Question: \" + prompts[0])\n",
    "            st.write(\"Answer: \" + prompts[1])    "
   ]
  },
  {
   "cell_type": "code",
   "execution_count": null,
   "metadata": {},
   "outputs": [],
   "source": []
  }
 ],
 "metadata": {
  "kernelspec": {
   "display_name": "base",
   "language": "python",
   "name": "python3"
  },
  "language_info": {
   "codemirror_mode": {
    "name": "ipython",
    "version": 3
   },
   "file_extension": ".py",
   "mimetype": "text/x-python",
   "name": "python",
   "nbconvert_exporter": "python",
   "pygments_lexer": "ipython3",
   "version": "3.11.4"
  }
 },
 "nbformat": 4,
 "nbformat_minor": 2
}
